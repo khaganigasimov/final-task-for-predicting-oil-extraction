{
 "cells": [
  {
   "cell_type": "code",
   "execution_count": 1,
   "metadata": {},
   "outputs": [],
   "source": [
    "# importing necessary libraries which we will use\n",
    "import pandas as pd\n",
    "import matplotlib.pyplot as plt\n",
    "from googletrans import Translator, constants\n",
    "import numpy as np\n",
    "from sklearn.model_selection import train_test_split\n",
    "from sklearn.neural_network import MLPRegressor\n",
    "from sklearn.ensemble import GradientBoostingRegressor\n",
    "from sklearn.linear_model import LinearRegression\n",
    "from sklearn.ensemble import RandomForestRegressor\n",
    "from sklearn.preprocessing import OneHotEncoder\n",
    "import matplotlib.pyplot as plt\n",
    "import uvicorn\n",
    "from fastapi import FastAPI\n",
    "import pickle\n",
    "RANDOM_STATE = 55 ## You will pass it to every sklearn call so we ensure reproducibility"
   ]
  },
  {
   "cell_type": "code",
   "execution_count": 70,
   "metadata": {},
   "outputs": [],
   "source": [
    "# creating DataFrame for Excel file using pandas\n",
    "df = pd.read_csv('tabela_producao_oleo.csv',low_memory= False)"
   ]
  },
  {
   "cell_type": "code",
   "execution_count": 71,
   "metadata": {},
   "outputs": [
    {
     "data": {
      "text/plain": [
       "Estado                             0.000000\n",
       "Bacia                              0.000000\n",
       "NP_ANP                             0.000000\n",
       "NP_Operador                        0.000000\n",
       "Campo                              0.000000\n",
       "Operador                           0.000000\n",
       "Número do Contrato                 0.000000\n",
       "Período                            0.000000\n",
       "Óleo (bbl/dia)                     0.000000\n",
       "Condensado (bbl/dia)               0.000000\n",
       "Petróleo (bbl/dia)                 0.000000\n",
       "GN_Associado                       0.000000\n",
       "GN_Não associado                   0.000000\n",
       "GN_Gás Total                       0.000000\n",
       "Volume Gás                         0.000000\n",
       "Água (bbl/dia)                     0.000000\n",
       "Instalação Destino                62.201497\n",
       "Tipo Instalação                   62.201497\n",
       "Tempo de Produção (hs por mês)     0.000000\n",
       "dtype: float64"
      ]
     },
     "execution_count": 71,
     "metadata": {},
     "output_type": "execute_result"
    }
   ],
   "source": [
    "# looking number of nulls for every column\n",
    "df.isnull().sum()*100/len(df)"
   ]
  },
  {
   "cell_type": "code",
   "execution_count": 4,
   "metadata": {},
   "outputs": [],
   "source": [
    "# deleting these two columns ,because they have more than 30% nulls\n",
    "del df['Instalação Destino']\n",
    "del df['Tipo Instalação']"
   ]
  },
  {
   "cell_type": "code",
   "execution_count": 5,
   "metadata": {},
   "outputs": [
    {
     "name": "stdout",
     "output_type": "stream",
     "text": [
      "Estado :  state\n",
      "Bacia :  Bowl\n",
      "NP_ANP :  NP_ANP\n",
      "NP_Operador :  NP_Operator\n",
      "Campo :  Field\n",
      "Operador :  Operator\n",
      "Número do Contrato :  Contact number\n",
      "Período :  Period\n",
      "Óleo (bbl/dia) :  Oil (bbl/day)\n",
      "Condensado (bbl/dia) :  Condensate (bbl/day)\n",
      "Petróleo (bbl/dia) :  Oil (bbl/day)\n",
      "GN_Associado :  NG_Associate\n",
      "GN_Não associado :  GN_Not associated\n",
      "GN_Gás Total :  NG_Total Gas\n",
      "Volume Gás :  Gas Volume\n",
      "Água (bbl/dia) :  Water (bbl/day)\n",
      "Tempo de Produção (hs por mês) :  Production time (hrs per month)\n"
     ]
    }
   ],
   "source": [
    "# using requests library,translating column names to English\n",
    "import requests\n",
    "\n",
    "column_tra = []\n",
    "\n",
    "for i in range(len(df.columns)):\n",
    "\n",
    "    src_text = df.columns[i]\n",
    "\n",
    "    r = requests.get('https://translate.googleapis.com/translate_a/single?client=gtx&sl=pt&tl=en&dt=t&q=' + src_text)\n",
    "\n",
    "    translated_text = r.json()[0][0][0]\n",
    "\n",
    "    column_tra.extend(translated_text)\n",
    "    print(df.columns[i],': ', translated_text)\n",
    "    "
   ]
  },
  {
   "cell_type": "code",
   "execution_count": 6,
   "metadata": {},
   "outputs": [],
   "source": [
    "# renaming column names\n",
    "df.rename(columns = {'Estado' :  'state','Bacia' :  'Bowl','NP_ANP' :  'NP_ANP','NP_Operador' :  'NP_Operator','Campo' :  'Field','Operador':  'Operator','Número do Contrato' :  'Contact number','Período' :  'Period','Óleo (bbl/dia)' :  'Oil (bbl/day)','Condensado (bbl/dia)' :  'Condensate (bbl/day)','Petróleo (bbl/dia)' :  'Petrol (bbl/day)','GN_Associado' :  'NG_Associate','GN_Não associado' :  'GN_Not associated','GN_Gás Total' :  'NG_Total Gas','Volume Gás' :  'Gas Volume','Água (bbl/dia)' :  'Water (bbl/day)','Tempo de Produção (hs por mês)' :  'Production time (hrs per month)'},inplace = True )"
   ]
  },
  {
   "cell_type": "code",
   "execution_count": 7,
   "metadata": {},
   "outputs": [
    {
     "data": {
      "text/html": [
       "<div>\n",
       "<style scoped>\n",
       "    .dataframe tbody tr th:only-of-type {\n",
       "        vertical-align: middle;\n",
       "    }\n",
       "\n",
       "    .dataframe tbody tr th {\n",
       "        vertical-align: top;\n",
       "    }\n",
       "\n",
       "    .dataframe thead th {\n",
       "        text-align: right;\n",
       "    }\n",
       "</style>\n",
       "<table border=\"1\" class=\"dataframe\">\n",
       "  <thead>\n",
       "    <tr style=\"text-align: right;\">\n",
       "      <th></th>\n",
       "      <th>count</th>\n",
       "      <th>mean</th>\n",
       "      <th>std</th>\n",
       "      <th>min</th>\n",
       "      <th>25%</th>\n",
       "      <th>50%</th>\n",
       "      <th>75%</th>\n",
       "      <th>max</th>\n",
       "    </tr>\n",
       "  </thead>\n",
       "  <tbody>\n",
       "    <tr>\n",
       "      <th>Oil (bbl/day)</th>\n",
       "      <td>2109401.0</td>\n",
       "      <td>283.339324</td>\n",
       "      <td>1962.978513</td>\n",
       "      <td>0.0000</td>\n",
       "      <td>0.65040</td>\n",
       "      <td>6.66410</td>\n",
       "      <td>20.70300</td>\n",
       "      <td>56094.15040</td>\n",
       "    </tr>\n",
       "    <tr>\n",
       "      <th>Condensate (bbl/day)</th>\n",
       "      <td>2109401.0</td>\n",
       "      <td>0.998269</td>\n",
       "      <td>27.778907</td>\n",
       "      <td>0.0000</td>\n",
       "      <td>0.00000</td>\n",
       "      <td>0.00000</td>\n",
       "      <td>0.00000</td>\n",
       "      <td>7160.45410</td>\n",
       "    </tr>\n",
       "    <tr>\n",
       "      <th>Petrol (bbl/day)</th>\n",
       "      <td>2109401.0</td>\n",
       "      <td>284.337593</td>\n",
       "      <td>1963.032205</td>\n",
       "      <td>0.0000</td>\n",
       "      <td>0.81330</td>\n",
       "      <td>6.83620</td>\n",
       "      <td>21.08910</td>\n",
       "      <td>56094.15040</td>\n",
       "    </tr>\n",
       "    <tr>\n",
       "      <th>NG_Associate</th>\n",
       "      <td>2109401.0</td>\n",
       "      <td>8.867402</td>\n",
       "      <td>76.012352</td>\n",
       "      <td>0.0000</td>\n",
       "      <td>0.00030</td>\n",
       "      <td>0.00560</td>\n",
       "      <td>0.09180</td>\n",
       "      <td>3230.28550</td>\n",
       "    </tr>\n",
       "    <tr>\n",
       "      <th>GN_Not associated</th>\n",
       "      <td>2109401.0</td>\n",
       "      <td>1.895056</td>\n",
       "      <td>35.322858</td>\n",
       "      <td>0.0000</td>\n",
       "      <td>0.00000</td>\n",
       "      <td>0.00000</td>\n",
       "      <td>0.00000</td>\n",
       "      <td>2087.20730</td>\n",
       "    </tr>\n",
       "    <tr>\n",
       "      <th>NG_Total Gas</th>\n",
       "      <td>2109401.0</td>\n",
       "      <td>10.762458</td>\n",
       "      <td>83.619776</td>\n",
       "      <td>0.0000</td>\n",
       "      <td>0.00050</td>\n",
       "      <td>0.00690</td>\n",
       "      <td>0.11990</td>\n",
       "      <td>3230.28550</td>\n",
       "    </tr>\n",
       "    <tr>\n",
       "      <th>Gas Volume</th>\n",
       "      <td>2109401.0</td>\n",
       "      <td>219.601967</td>\n",
       "      <td>1661.519688</td>\n",
       "      <td>0.0000</td>\n",
       "      <td>0.01029</td>\n",
       "      <td>0.17084</td>\n",
       "      <td>3.12444</td>\n",
       "      <td>64703.42696</td>\n",
       "    </tr>\n",
       "    <tr>\n",
       "      <th>Water (bbl/day)</th>\n",
       "      <td>2109401.0</td>\n",
       "      <td>305.972579</td>\n",
       "      <td>1096.857121</td>\n",
       "      <td>-0.0056</td>\n",
       "      <td>0.78120</td>\n",
       "      <td>57.36920</td>\n",
       "      <td>248.76200</td>\n",
       "      <td>56772.52460</td>\n",
       "    </tr>\n",
       "    <tr>\n",
       "      <th>Production time (hrs per month)</th>\n",
       "      <td>2109401.0</td>\n",
       "      <td>206.542901</td>\n",
       "      <td>316.095624</td>\n",
       "      <td>0.0000</td>\n",
       "      <td>0.00000</td>\n",
       "      <td>0.00000</td>\n",
       "      <td>640.00000</td>\n",
       "      <td>990.00000</td>\n",
       "    </tr>\n",
       "  </tbody>\n",
       "</table>\n",
       "</div>"
      ],
      "text/plain": [
       "                                     count        mean          std     min  \\\n",
       "Oil (bbl/day)                    2109401.0  283.339324  1962.978513  0.0000   \n",
       "Condensate (bbl/day)             2109401.0    0.998269    27.778907  0.0000   \n",
       "Petrol (bbl/day)                 2109401.0  284.337593  1963.032205  0.0000   \n",
       "NG_Associate                     2109401.0    8.867402    76.012352  0.0000   \n",
       "GN_Not associated                2109401.0    1.895056    35.322858  0.0000   \n",
       "NG_Total Gas                     2109401.0   10.762458    83.619776  0.0000   \n",
       "Gas Volume                       2109401.0  219.601967  1661.519688  0.0000   \n",
       "Water (bbl/day)                  2109401.0  305.972579  1096.857121 -0.0056   \n",
       "Production time (hrs per month)  2109401.0  206.542901   316.095624  0.0000   \n",
       "\n",
       "                                     25%       50%        75%          max  \n",
       "Oil (bbl/day)                    0.65040   6.66410   20.70300  56094.15040  \n",
       "Condensate (bbl/day)             0.00000   0.00000    0.00000   7160.45410  \n",
       "Petrol (bbl/day)                 0.81330   6.83620   21.08910  56094.15040  \n",
       "NG_Associate                     0.00030   0.00560    0.09180   3230.28550  \n",
       "GN_Not associated                0.00000   0.00000    0.00000   2087.20730  \n",
       "NG_Total Gas                     0.00050   0.00690    0.11990   3230.28550  \n",
       "Gas Volume                       0.01029   0.17084    3.12444  64703.42696  \n",
       "Water (bbl/day)                  0.78120  57.36920  248.76200  56772.52460  \n",
       "Production time (hrs per month)  0.00000   0.00000  640.00000    990.00000  "
      ]
     },
     "execution_count": 7,
     "metadata": {},
     "output_type": "execute_result"
    }
   ],
   "source": [
    "df.describe().T"
   ]
  },
  {
   "cell_type": "code",
   "execution_count": 8,
   "metadata": {},
   "outputs": [],
   "source": [
    "# special cleaning function for making column names lowercase and ignoring any problems\n",
    "def mycleaningfunction(df):\n",
    "    df.columns = list(map(lambda x : x.strip().lower(),df.columns))\n",
    "    for i in df.columns:\n",
    "        if df[i].isnull().sum()/len(df)>0.3:\n",
    "            df.drop(columns=[i],axis=1,inplace=True)\n",
    "        if not i.isalnum():\n",
    "            for j in i:\n",
    "                if not j.isalnum():\n",
    "                    i=i.replace(j,'')        \n",
    "    return df"
   ]
  },
  {
   "cell_type": "code",
   "execution_count": 9,
   "metadata": {
    "scrolled": true
   },
   "outputs": [
    {
     "data": {
      "text/html": [
       "<div>\n",
       "<style scoped>\n",
       "    .dataframe tbody tr th:only-of-type {\n",
       "        vertical-align: middle;\n",
       "    }\n",
       "\n",
       "    .dataframe tbody tr th {\n",
       "        vertical-align: top;\n",
       "    }\n",
       "\n",
       "    .dataframe thead th {\n",
       "        text-align: right;\n",
       "    }\n",
       "</style>\n",
       "<table border=\"1\" class=\"dataframe\">\n",
       "  <thead>\n",
       "    <tr style=\"text-align: right;\">\n",
       "      <th></th>\n",
       "      <th>state</th>\n",
       "      <th>bowl</th>\n",
       "      <th>np_anp</th>\n",
       "      <th>np_operator</th>\n",
       "      <th>field</th>\n",
       "      <th>operator</th>\n",
       "      <th>contact number</th>\n",
       "      <th>period</th>\n",
       "      <th>oil (bbl/day)</th>\n",
       "      <th>condensate (bbl/day)</th>\n",
       "      <th>petrol (bbl/day)</th>\n",
       "      <th>ng_associate</th>\n",
       "      <th>gn_not associated</th>\n",
       "      <th>ng_total gas</th>\n",
       "      <th>gas volume</th>\n",
       "      <th>water (bbl/day)</th>\n",
       "      <th>production time (hrs per month)</th>\n",
       "    </tr>\n",
       "  </thead>\n",
       "  <tbody>\n",
       "    <tr>\n",
       "      <th>0</th>\n",
       "      <td>Sergipe</td>\n",
       "      <td>Sergipe</td>\n",
       "      <td>7-GA-7D-SES</td>\n",
       "      <td>7GA  0007D SES</td>\n",
       "      <td>GUARICEMA</td>\n",
       "      <td>Petrobras</td>\n",
       "      <td>480000038399796</td>\n",
       "      <td>2005/01</td>\n",
       "      <td>76.5937</td>\n",
       "      <td>0.0</td>\n",
       "      <td>76.5937</td>\n",
       "      <td>0.0000</td>\n",
       "      <td>0.0</td>\n",
       "      <td>0.0000</td>\n",
       "      <td>0.00000</td>\n",
       "      <td>7.0405</td>\n",
       "      <td>31.0</td>\n",
       "    </tr>\n",
       "    <tr>\n",
       "      <th>1</th>\n",
       "      <td>Sergipe</td>\n",
       "      <td>Sergipe</td>\n",
       "      <td>7-GA-66D-SES</td>\n",
       "      <td>7GA66DSES</td>\n",
       "      <td>GUARICEMA</td>\n",
       "      <td>Petrobras</td>\n",
       "      <td>480000038399796</td>\n",
       "      <td>2005/01</td>\n",
       "      <td>71.3589</td>\n",
       "      <td>0.0</td>\n",
       "      <td>71.3589</td>\n",
       "      <td>0.0000</td>\n",
       "      <td>0.0</td>\n",
       "      <td>0.0000</td>\n",
       "      <td>0.00000</td>\n",
       "      <td>143.9758</td>\n",
       "      <td>31.0</td>\n",
       "    </tr>\n",
       "    <tr>\n",
       "      <th>2</th>\n",
       "      <td>Sergipe</td>\n",
       "      <td>Sergipe</td>\n",
       "      <td>7-GA-35D-SES</td>\n",
       "      <td>7GA  0035D SES</td>\n",
       "      <td>GUARICEMA</td>\n",
       "      <td>Petrobras</td>\n",
       "      <td>480000038399796</td>\n",
       "      <td>2005/01</td>\n",
       "      <td>0.0000</td>\n",
       "      <td>0.0</td>\n",
       "      <td>0.0000</td>\n",
       "      <td>0.0000</td>\n",
       "      <td>0.0</td>\n",
       "      <td>0.0000</td>\n",
       "      <td>0.00000</td>\n",
       "      <td>0.0000</td>\n",
       "      <td>31.0</td>\n",
       "    </tr>\n",
       "    <tr>\n",
       "      <th>3</th>\n",
       "      <td>Sergipe</td>\n",
       "      <td>Sergipe</td>\n",
       "      <td>7-GA-30-SES</td>\n",
       "      <td>7GA  0030  SES</td>\n",
       "      <td>GUARICEMA</td>\n",
       "      <td>Petrobras</td>\n",
       "      <td>480000038399796</td>\n",
       "      <td>2005/01</td>\n",
       "      <td>0.0000</td>\n",
       "      <td>0.0</td>\n",
       "      <td>0.0000</td>\n",
       "      <td>0.0000</td>\n",
       "      <td>0.0</td>\n",
       "      <td>0.0000</td>\n",
       "      <td>0.00000</td>\n",
       "      <td>0.0000</td>\n",
       "      <td>31.0</td>\n",
       "    </tr>\n",
       "    <tr>\n",
       "      <th>4</th>\n",
       "      <td>Sergipe</td>\n",
       "      <td>Sergipe</td>\n",
       "      <td>7-GA-58D-SES</td>\n",
       "      <td>7GA  0058D SES</td>\n",
       "      <td>GUARICEMA</td>\n",
       "      <td>Petrobras</td>\n",
       "      <td>480000038399796</td>\n",
       "      <td>2005/01</td>\n",
       "      <td>423.0607</td>\n",
       "      <td>0.0</td>\n",
       "      <td>423.0607</td>\n",
       "      <td>0.0000</td>\n",
       "      <td>0.0</td>\n",
       "      <td>0.0000</td>\n",
       "      <td>0.00000</td>\n",
       "      <td>1.8667</td>\n",
       "      <td>31.0</td>\n",
       "    </tr>\n",
       "    <tr>\n",
       "      <th>...</th>\n",
       "      <td>...</td>\n",
       "      <td>...</td>\n",
       "      <td>...</td>\n",
       "      <td>...</td>\n",
       "      <td>...</td>\n",
       "      <td>...</td>\n",
       "      <td>...</td>\n",
       "      <td>...</td>\n",
       "      <td>...</td>\n",
       "      <td>...</td>\n",
       "      <td>...</td>\n",
       "      <td>...</td>\n",
       "      <td>...</td>\n",
       "      <td>...</td>\n",
       "      <td>...</td>\n",
       "      <td>...</td>\n",
       "      <td>...</td>\n",
       "    </tr>\n",
       "    <tr>\n",
       "      <th>2109396</th>\n",
       "      <td>Bahia</td>\n",
       "      <td>Recôncavo</td>\n",
       "      <td>7-BA-73-BA</td>\n",
       "      <td>7BA  0073  BA</td>\n",
       "      <td>BURACICA</td>\n",
       "      <td>Petrobras</td>\n",
       "      <td>480000036359746</td>\n",
       "      <td>2022/03</td>\n",
       "      <td>9.2101</td>\n",
       "      <td>0.0</td>\n",
       "      <td>9.2101</td>\n",
       "      <td>0.0094</td>\n",
       "      <td>0.0</td>\n",
       "      <td>0.0094</td>\n",
       "      <td>0.29038</td>\n",
       "      <td>739.4759</td>\n",
       "      <td>698.0</td>\n",
       "    </tr>\n",
       "    <tr>\n",
       "      <th>2109397</th>\n",
       "      <td>Bahia</td>\n",
       "      <td>Recôncavo</td>\n",
       "      <td>7-BA-75-BA</td>\n",
       "      <td>7BA  0075  BA</td>\n",
       "      <td>BURACICA</td>\n",
       "      <td>Petrobras</td>\n",
       "      <td>480000036359746</td>\n",
       "      <td>2022/03</td>\n",
       "      <td>0.0000</td>\n",
       "      <td>0.0</td>\n",
       "      <td>0.0000</td>\n",
       "      <td>0.0000</td>\n",
       "      <td>0.0</td>\n",
       "      <td>0.0000</td>\n",
       "      <td>0.00000</td>\n",
       "      <td>0.0000</td>\n",
       "      <td>0.0</td>\n",
       "    </tr>\n",
       "    <tr>\n",
       "      <th>2109398</th>\n",
       "      <td>Bahia</td>\n",
       "      <td>Recôncavo</td>\n",
       "      <td>7-BA-81-BA</td>\n",
       "      <td>7BA  0081  BA</td>\n",
       "      <td>BURACICA</td>\n",
       "      <td>Petrobras</td>\n",
       "      <td>480000036359746</td>\n",
       "      <td>2022/03</td>\n",
       "      <td>0.5503</td>\n",
       "      <td>0.0</td>\n",
       "      <td>0.5503</td>\n",
       "      <td>0.0042</td>\n",
       "      <td>0.0</td>\n",
       "      <td>0.0042</td>\n",
       "      <td>0.13072</td>\n",
       "      <td>143.1695</td>\n",
       "      <td>41.0</td>\n",
       "    </tr>\n",
       "    <tr>\n",
       "      <th>2109399</th>\n",
       "      <td>Bahia</td>\n",
       "      <td>Recôncavo</td>\n",
       "      <td>7-BA-92-BA</td>\n",
       "      <td>7BA  0092  BA</td>\n",
       "      <td>BURACICA</td>\n",
       "      <td>Petrobras</td>\n",
       "      <td>480000036359746</td>\n",
       "      <td>2022/03</td>\n",
       "      <td>0.0000</td>\n",
       "      <td>0.0</td>\n",
       "      <td>0.0000</td>\n",
       "      <td>0.0000</td>\n",
       "      <td>0.0</td>\n",
       "      <td>0.0000</td>\n",
       "      <td>0.00000</td>\n",
       "      <td>0.0000</td>\n",
       "      <td>0.0</td>\n",
       "    </tr>\n",
       "    <tr>\n",
       "      <th>2109400</th>\n",
       "      <td>Bahia</td>\n",
       "      <td>Recôncavo</td>\n",
       "      <td>7-BA-94-BA</td>\n",
       "      <td>7BA  0094  BA</td>\n",
       "      <td>BURACICA</td>\n",
       "      <td>Petrobras</td>\n",
       "      <td>480000036359746</td>\n",
       "      <td>2022/03</td>\n",
       "      <td>0.0000</td>\n",
       "      <td>0.0</td>\n",
       "      <td>0.0000</td>\n",
       "      <td>0.0000</td>\n",
       "      <td>0.0</td>\n",
       "      <td>0.0000</td>\n",
       "      <td>0.00000</td>\n",
       "      <td>0.0000</td>\n",
       "      <td>0.0</td>\n",
       "    </tr>\n",
       "  </tbody>\n",
       "</table>\n",
       "<p>2109401 rows × 17 columns</p>\n",
       "</div>"
      ],
      "text/plain": [
       "           state       bowl        np_anp           np_operator      field  \\\n",
       "0        Sergipe    Sergipe   7-GA-7D-SES  7GA  0007D SES        GUARICEMA   \n",
       "1        Sergipe    Sergipe  7-GA-66D-SES  7GA66DSES             GUARICEMA   \n",
       "2        Sergipe    Sergipe  7-GA-35D-SES  7GA  0035D SES        GUARICEMA   \n",
       "3        Sergipe    Sergipe   7-GA-30-SES  7GA  0030  SES        GUARICEMA   \n",
       "4        Sergipe    Sergipe  7-GA-58D-SES  7GA  0058D SES        GUARICEMA   \n",
       "...          ...        ...           ...                   ...        ...   \n",
       "2109396    Bahia  Recôncavo    7-BA-73-BA         7BA  0073  BA   BURACICA   \n",
       "2109397    Bahia  Recôncavo    7-BA-75-BA         7BA  0075  BA   BURACICA   \n",
       "2109398    Bahia  Recôncavo    7-BA-81-BA         7BA  0081  BA   BURACICA   \n",
       "2109399    Bahia  Recôncavo    7-BA-92-BA         7BA  0092  BA   BURACICA   \n",
       "2109400    Bahia  Recôncavo    7-BA-94-BA         7BA  0094  BA   BURACICA   \n",
       "\n",
       "          operator   contact number   period  oil (bbl/day)  \\\n",
       "0        Petrobras  480000038399796  2005/01        76.5937   \n",
       "1        Petrobras  480000038399796  2005/01        71.3589   \n",
       "2        Petrobras  480000038399796  2005/01         0.0000   \n",
       "3        Petrobras  480000038399796  2005/01         0.0000   \n",
       "4        Petrobras  480000038399796  2005/01       423.0607   \n",
       "...            ...              ...      ...            ...   \n",
       "2109396  Petrobras  480000036359746  2022/03         9.2101   \n",
       "2109397  Petrobras  480000036359746  2022/03         0.0000   \n",
       "2109398  Petrobras  480000036359746  2022/03         0.5503   \n",
       "2109399  Petrobras  480000036359746  2022/03         0.0000   \n",
       "2109400  Petrobras  480000036359746  2022/03         0.0000   \n",
       "\n",
       "         condensate (bbl/day)  petrol (bbl/day)  ng_associate  \\\n",
       "0                         0.0           76.5937        0.0000   \n",
       "1                         0.0           71.3589        0.0000   \n",
       "2                         0.0            0.0000        0.0000   \n",
       "3                         0.0            0.0000        0.0000   \n",
       "4                         0.0          423.0607        0.0000   \n",
       "...                       ...               ...           ...   \n",
       "2109396                   0.0            9.2101        0.0094   \n",
       "2109397                   0.0            0.0000        0.0000   \n",
       "2109398                   0.0            0.5503        0.0042   \n",
       "2109399                   0.0            0.0000        0.0000   \n",
       "2109400                   0.0            0.0000        0.0000   \n",
       "\n",
       "         gn_not associated  ng_total gas  gas volume  water (bbl/day)  \\\n",
       "0                      0.0        0.0000     0.00000           7.0405   \n",
       "1                      0.0        0.0000     0.00000         143.9758   \n",
       "2                      0.0        0.0000     0.00000           0.0000   \n",
       "3                      0.0        0.0000     0.00000           0.0000   \n",
       "4                      0.0        0.0000     0.00000           1.8667   \n",
       "...                    ...           ...         ...              ...   \n",
       "2109396                0.0        0.0094     0.29038         739.4759   \n",
       "2109397                0.0        0.0000     0.00000           0.0000   \n",
       "2109398                0.0        0.0042     0.13072         143.1695   \n",
       "2109399                0.0        0.0000     0.00000           0.0000   \n",
       "2109400                0.0        0.0000     0.00000           0.0000   \n",
       "\n",
       "         production time (hrs per month)  \n",
       "0                                   31.0  \n",
       "1                                   31.0  \n",
       "2                                   31.0  \n",
       "3                                   31.0  \n",
       "4                                   31.0  \n",
       "...                                  ...  \n",
       "2109396                            698.0  \n",
       "2109397                              0.0  \n",
       "2109398                             41.0  \n",
       "2109399                              0.0  \n",
       "2109400                              0.0  \n",
       "\n",
       "[2109401 rows x 17 columns]"
      ]
     },
     "execution_count": 9,
     "metadata": {},
     "output_type": "execute_result"
    }
   ],
   "source": [
    "mycleaningfunction(df)\n",
    "# ---------"
   ]
  },
  {
   "cell_type": "code",
   "execution_count": 10,
   "metadata": {},
   "outputs": [
    {
     "data": {
      "text/plain": [
       "Index(['state', 'bowl', 'np_anp', 'np_operator', 'field', 'operator',\n",
       "       'contact number', 'period', 'oil (bbl/day)', 'condensate (bbl/day)',\n",
       "       'petrol (bbl/day)', 'ng_associate', 'gn_not associated', 'ng_total gas',\n",
       "       'gas volume', 'water (bbl/day)', 'production time (hrs per month)'],\n",
       "      dtype='object')"
      ]
     },
     "execution_count": 10,
     "metadata": {},
     "output_type": "execute_result"
    }
   ],
   "source": [
    "df.columns"
   ]
  },
  {
   "cell_type": "code",
   "execution_count": 11,
   "metadata": {},
   "outputs": [
    {
     "name": "stdout",
     "output_type": "stream",
     "text": [
      "14872\n"
     ]
    }
   ],
   "source": [
    "print(df.duplicated().sum())\n",
    "# df.drop_duplicates(inplace= True)"
   ]
  },
  {
   "cell_type": "raw",
   "metadata": {},
   "source": [
    "# Creating time-series model"
   ]
  },
  {
   "cell_type": "code",
   "execution_count": 18,
   "metadata": {},
   "outputs": [],
   "source": [
    "data = df[['period','petrol (bbl/day)']];"
   ]
  },
  {
   "cell_type": "code",
   "execution_count": 20,
   "metadata": {},
   "outputs": [],
   "source": [
    "data = data.groupby(by='period').sum()\n",
    "data.reset_index('period')\n",
    "data.rename(columns= {'petrol (bbl/day)':'values'},inplace= True)"
   ]
  },
  {
   "cell_type": "code",
   "execution_count": 14,
   "metadata": {},
   "outputs": [
    {
     "name": "stdout",
     "output_type": "stream",
     "text": [
      "time got sequencely\n"
     ]
    }
   ],
   "source": [
    "data1 = pd.DataFrame(pd.date_range(data.index.min(),data.index.max()))\n",
    "# data1.apply(lambda value :value.replace())\n",
    "data1[0] = data1[0].apply(lambda value : str(value)[0:7])\n",
    "data1.drop_duplicates(inplace= True)\n",
    "if len(data) - len(data1) == 0:\n",
    "    print('time got sequencely')"
   ]
  },
  {
   "cell_type": "code",
   "execution_count": 21,
   "metadata": {},
   "outputs": [
    {
     "data": {
      "text/plain": [
       "<AxesSubplot:xlabel='period'>"
      ]
     },
     "execution_count": 21,
     "metadata": {},
     "output_type": "execute_result"
    },
    {
     "data": {
      "image/png": "[encoded data removed]",
      "text/plain": [
       "<Figure size 432x288 with 1 Axes>"
      ]
     },
     "metadata": {
      "needs_background": "light"
     },
     "output_type": "display_data"
    }
   ],
   "source": [
    "data.plot()"
   ]
  },
  {
   "cell_type": "code",
   "execution_count": 16,
   "metadata": {},
   "outputs": [
    {
     "name": "stdout",
     "output_type": "stream",
     "text": [
      "slope: 19072.01588590744 \n",
      "intercept: 933079.9612819689\n"
     ]
    }
   ],
   "source": [
    "def linreg(X, Y):\n",
    "    N = len(X)\n",
    "    Sx = Sy = Sxx = Syy = Sxy = 0.0\n",
    "    for x, y in zip(X, Y):\n",
    "        Sx = Sx + x\n",
    "        Sy = Sy + y\n",
    "        Sxx = Sxx + x*x\n",
    "        Syy = Syy + y*y\n",
    "        Sxy = Sxy + x*y\n",
    "    det = Sxx * N - Sx * Sx\n",
    "    return (Sxy * N - Sy * Sx)/det, (Sxx * Sy - Sx * Sxy)/det\n",
    "m, n = linreg(range(len(data)), data['values'])\n",
    "print(f'slope: {m} \\nintercept: {n}')"
   ]
  },
  {
   "cell_type": "code",
   "execution_count": 22,
   "metadata": {},
   "outputs": [],
   "source": [
    "# based on just values creating auto-arima statisical model\n",
    "from pmdarima.arima import auto_arima\n",
    "\n",
    "# Step 6: Choose a model\n",
    "model = auto_arima(data, m=12, suppress_warnings=True)\n",
    "\n",
    "# Step 7: Train the model\n",
    "model_fit = model.fit(data)\n",
    "\n",
    "\n"
   ]
  },
  {
   "cell_type": "code",
   "execution_count": 24,
   "metadata": {},
   "outputs": [
    {
     "data": {
      "text/plain": [
       "2022-04-01    5.254137e+06\n",
       "2022-05-01    5.276485e+06\n",
       "2022-06-01    5.295611e+06\n",
       "2022-07-01    5.315340e+06\n",
       "2022-08-01    5.334957e+06\n",
       "2022-09-01    5.354595e+06\n",
       "2022-10-01    5.374228e+06\n",
       "2022-11-01    5.393863e+06\n",
       "2022-12-01    5.413497e+06\n",
       "2023-01-01    5.433132e+06\n",
       "2023-02-01    5.452766e+06\n",
       "2023-03-01    5.472401e+06\n",
       "Freq: MS, dtype: float64"
      ]
     },
     "execution_count": 24,
     "metadata": {},
     "output_type": "execute_result"
    }
   ],
   "source": [
    "# predicting next 1 year's petrol levels\n",
    "month_pred = 12\n",
    "future_predictions = model_fit.predict(n_periods = month_pred)\n",
    "future_predictions"
   ]
  },
  {
   "cell_type": "code",
   "execution_count": null,
   "metadata": {},
   "outputs": [],
   "source": [
    "# for this project,this can be seemed as optional\n",
    "# using Fastapi  and pickle getting result for upcoming observation\n",
    "\n",
    "filename = 'regres_ts_model.sav'\n",
    "pickle.dump(regr, open(filename, 'wb'))\n",
    "loaded_model = pickle.load(open(filename, 'rb'))\n",
    "result = loaded_model.score(X,y)\n",
    "\n",
    "def dataset(pclass):\n",
    "    observation = {\"pred_month\": [month_pred]}\n",
    "\n",
    "    dataframe = pd.DataFrame(data = observation)\n",
    "    \n",
    "    return dataframe\n",
    "\n",
    "app = FastAPI()\n",
    "\n",
    "pickle_model = open(\"regres_ts_model.sav\", \"rb\")\n",
    "model = pickle.load(pickle_model)\n",
    "\n",
    "@app.post('/Predict Brasil Oil in next months')\n",
    "def predict_oil_volume(month_pred: int,):\n",
    "    \"\"\"   Brasil monthly oil prediction. \n",
    "    Date - monthly date\n",
    "    y -monthly oil  \n",
    "\"\"\"\n",
    "    user_data = dataset(month_pred)\n",
    "    \n",
    "    \n",
    "    prediction = model.predict(X)\n",
    "    \n",
    "    return { str(df.tail(month_pred)[['Date','y']])}\n",
    "\n",
    "import nest_asyncio\n",
    "nest_asyncio.apply()\n",
    "\n",
    "if __name__ == '__main__':\n",
    "    uvicorn.run(app, host = '127.0.0.1', port = 5000)\n",
    "\n",
    "# at the end click this link: http://127.0.0.1:5000/docs"
   ]
  },
  {
   "cell_type": "raw",
   "metadata": {},
   "source": [
    "# Creating other important features and building Linear Regression model"
   ]
  },
  {
   "cell_type": "code",
   "execution_count": 25,
   "metadata": {},
   "outputs": [],
   "source": [
    "# moving averages\n",
    "data['ma3'] = data['values'].rolling(3, closed = 'left').mean()\n",
    "data['ma5'] = data['values'].rolling(5, closed = 'left').mean()"
   ]
  },
  {
   "cell_type": "code",
   "execution_count": 26,
   "metadata": {},
   "outputs": [],
   "source": [
    "# determining sequence,trend and making detrend\n",
    "data['sequence'] = [*range(1,len(data)+1)]\n",
    "data['trend'] = data['sequence'] * m + n\n",
    "data['detrend'] =  data['values'] - data['trend']"
   ]
  },
  {
   "cell_type": "code",
   "execution_count": 27,
   "metadata": {},
   "outputs": [],
   "source": [
    "# creating lags, lokking for specified previous days' values\n",
    "data['Lag1'] = data['values'].shift(1)\n",
    "data['Lag6'] = data['values'].shift(6)\n",
    "data['Lag5'] = data['values'].shift(5)\n",
    "data['Lag12'] = data['values'].shift(12)"
   ]
  },
  {
   "cell_type": "code",
   "execution_count": 28,
   "metadata": {},
   "outputs": [
    {
     "data": {
      "text/plain": [
       "<AxesSubplot:xlabel='period'>"
      ]
     },
     "execution_count": 28,
     "metadata": {},
     "output_type": "execute_result"
    },
    {
     "data": {
      "image/png": "[encoded data removed]",
      "text/plain": [
       "<Figure size 432x288 with 1 Axes>"
      ]
     },
     "metadata": {
      "needs_background": "light"
     },
     "output_type": "display_data"
    }
   ],
   "source": [
    "data.plot()"
   ]
  },
  {
   "cell_type": "code",
   "execution_count": 29,
   "metadata": {},
   "outputs": [],
   "source": [
    "data.dropna(inplace = True)"
   ]
  },
  {
   "cell_type": "code",
   "execution_count": 30,
   "metadata": {},
   "outputs": [
    {
     "data": {
      "text/html": [
       "<div>\n",
       "<style scoped>\n",
       "    .dataframe tbody tr th:only-of-type {\n",
       "        vertical-align: middle;\n",
       "    }\n",
       "\n",
       "    .dataframe tbody tr th {\n",
       "        vertical-align: top;\n",
       "    }\n",
       "\n",
       "    .dataframe thead th {\n",
       "        text-align: right;\n",
       "    }\n",
       "</style>\n",
       "<table border=\"1\" class=\"dataframe\">\n",
       "  <thead>\n",
       "    <tr style=\"text-align: right;\">\n",
       "      <th></th>\n",
       "      <th>values</th>\n",
       "      <th>ma3</th>\n",
       "      <th>ma5</th>\n",
       "      <th>sequence</th>\n",
       "      <th>trend</th>\n",
       "      <th>detrend</th>\n",
       "      <th>Lag1</th>\n",
       "      <th>Lag6</th>\n",
       "      <th>Lag5</th>\n",
       "      <th>Lag12</th>\n",
       "    </tr>\n",
       "  </thead>\n",
       "  <tbody>\n",
       "    <tr>\n",
       "      <th>values</th>\n",
       "      <td>1.000000</td>\n",
       "      <td>0.992636</td>\n",
       "      <td>0.991577</td>\n",
       "      <td>0.938980</td>\n",
       "      <td>0.938980</td>\n",
       "      <td>0.489846</td>\n",
       "      <td>0.993112</td>\n",
       "      <td>0.979925</td>\n",
       "      <td>0.982761</td>\n",
       "      <td>0.964467</td>\n",
       "    </tr>\n",
       "    <tr>\n",
       "      <th>ma3</th>\n",
       "      <td>0.992636</td>\n",
       "      <td>1.000000</td>\n",
       "      <td>0.998880</td>\n",
       "      <td>0.938472</td>\n",
       "      <td>0.938472</td>\n",
       "      <td>0.470004</td>\n",
       "      <td>0.997028</td>\n",
       "      <td>0.987355</td>\n",
       "      <td>0.989793</td>\n",
       "      <td>0.970879</td>\n",
       "    </tr>\n",
       "    <tr>\n",
       "      <th>ma5</th>\n",
       "      <td>0.991577</td>\n",
       "      <td>0.998880</td>\n",
       "      <td>1.000000</td>\n",
       "      <td>0.938223</td>\n",
       "      <td>0.938223</td>\n",
       "      <td>0.467595</td>\n",
       "      <td>0.994971</td>\n",
       "      <td>0.991342</td>\n",
       "      <td>0.994846</td>\n",
       "      <td>0.974994</td>\n",
       "    </tr>\n",
       "    <tr>\n",
       "      <th>sequence</th>\n",
       "      <td>0.938980</td>\n",
       "      <td>0.938472</td>\n",
       "      <td>0.938223</td>\n",
       "      <td>1.000000</td>\n",
       "      <td>1.000000</td>\n",
       "      <td>0.160079</td>\n",
       "      <td>0.937476</td>\n",
       "      <td>0.929812</td>\n",
       "      <td>0.931455</td>\n",
       "      <td>0.920789</td>\n",
       "    </tr>\n",
       "    <tr>\n",
       "      <th>trend</th>\n",
       "      <td>0.938980</td>\n",
       "      <td>0.938472</td>\n",
       "      <td>0.938223</td>\n",
       "      <td>1.000000</td>\n",
       "      <td>1.000000</td>\n",
       "      <td>0.160079</td>\n",
       "      <td>0.937476</td>\n",
       "      <td>0.929812</td>\n",
       "      <td>0.931455</td>\n",
       "      <td>0.920789</td>\n",
       "    </tr>\n",
       "    <tr>\n",
       "      <th>detrend</th>\n",
       "      <td>0.489846</td>\n",
       "      <td>0.470004</td>\n",
       "      <td>0.467595</td>\n",
       "      <td>0.160079</td>\n",
       "      <td>0.160079</td>\n",
       "      <td>1.000000</td>\n",
       "      <td>0.473891</td>\n",
       "      <td>0.455473</td>\n",
       "      <td>0.459449</td>\n",
       "      <td>0.433982</td>\n",
       "    </tr>\n",
       "    <tr>\n",
       "      <th>Lag1</th>\n",
       "      <td>0.993112</td>\n",
       "      <td>0.997028</td>\n",
       "      <td>0.994971</td>\n",
       "      <td>0.937476</td>\n",
       "      <td>0.937476</td>\n",
       "      <td>0.473891</td>\n",
       "      <td>1.000000</td>\n",
       "      <td>0.982666</td>\n",
       "      <td>0.985085</td>\n",
       "      <td>0.965656</td>\n",
       "    </tr>\n",
       "    <tr>\n",
       "      <th>Lag6</th>\n",
       "      <td>0.979925</td>\n",
       "      <td>0.987355</td>\n",
       "      <td>0.991342</td>\n",
       "      <td>0.929812</td>\n",
       "      <td>0.929812</td>\n",
       "      <td>0.455473</td>\n",
       "      <td>0.982666</td>\n",
       "      <td>1.000000</td>\n",
       "      <td>0.992998</td>\n",
       "      <td>0.979113</td>\n",
       "    </tr>\n",
       "    <tr>\n",
       "      <th>Lag5</th>\n",
       "      <td>0.982761</td>\n",
       "      <td>0.989793</td>\n",
       "      <td>0.994846</td>\n",
       "      <td>0.931455</td>\n",
       "      <td>0.931455</td>\n",
       "      <td>0.459449</td>\n",
       "      <td>0.985085</td>\n",
       "      <td>0.992998</td>\n",
       "      <td>1.000000</td>\n",
       "      <td>0.976616</td>\n",
       "    </tr>\n",
       "    <tr>\n",
       "      <th>Lag12</th>\n",
       "      <td>0.964467</td>\n",
       "      <td>0.970879</td>\n",
       "      <td>0.974994</td>\n",
       "      <td>0.920789</td>\n",
       "      <td>0.920789</td>\n",
       "      <td>0.433982</td>\n",
       "      <td>0.965656</td>\n",
       "      <td>0.979113</td>\n",
       "      <td>0.976616</td>\n",
       "      <td>1.000000</td>\n",
       "    </tr>\n",
       "  </tbody>\n",
       "</table>\n",
       "</div>"
      ],
      "text/plain": [
       "            values       ma3       ma5  sequence     trend   detrend  \\\n",
       "values    1.000000  0.992636  0.991577  0.938980  0.938980  0.489846   \n",
       "ma3       0.992636  1.000000  0.998880  0.938472  0.938472  0.470004   \n",
       "ma5       0.991577  0.998880  1.000000  0.938223  0.938223  0.467595   \n",
       "sequence  0.938980  0.938472  0.938223  1.000000  1.000000  0.160079   \n",
       "trend     0.938980  0.938472  0.938223  1.000000  1.000000  0.160079   \n",
       "detrend   0.489846  0.470004  0.467595  0.160079  0.160079  1.000000   \n",
       "Lag1      0.993112  0.997028  0.994971  0.937476  0.937476  0.473891   \n",
       "Lag6      0.979925  0.987355  0.991342  0.929812  0.929812  0.455473   \n",
       "Lag5      0.982761  0.989793  0.994846  0.931455  0.931455  0.459449   \n",
       "Lag12     0.964467  0.970879  0.974994  0.920789  0.920789  0.433982   \n",
       "\n",
       "              Lag1      Lag6      Lag5     Lag12  \n",
       "values    0.993112  0.979925  0.982761  0.964467  \n",
       "ma3       0.997028  0.987355  0.989793  0.970879  \n",
       "ma5       0.994971  0.991342  0.994846  0.974994  \n",
       "sequence  0.937476  0.929812  0.931455  0.920789  \n",
       "trend     0.937476  0.929812  0.931455  0.920789  \n",
       "detrend   0.473891  0.455473  0.459449  0.433982  \n",
       "Lag1      1.000000  0.982666  0.985085  0.965656  \n",
       "Lag6      0.982666  1.000000  0.992998  0.979113  \n",
       "Lag5      0.985085  0.992998  1.000000  0.976616  \n",
       "Lag12     0.965656  0.979113  0.976616  1.000000  "
      ]
     },
     "execution_count": 30,
     "metadata": {},
     "output_type": "execute_result"
    }
   ],
   "source": [
    "data.corr()"
   ]
  },
  {
   "cell_type": "code",
   "execution_count": 31,
   "metadata": {},
   "outputs": [],
   "source": [
    "del data['trend']"
   ]
  },
  {
   "cell_type": "code",
   "execution_count": 32,
   "metadata": {},
   "outputs": [],
   "source": [
    "train = data[:150]\n",
    "test = data[150:]\n",
    "\n",
    "y_train = train['values']\n",
    "X_train = train.drop( columns = ['values'] )\n",
    "\n",
    "y_test = test['values']\n",
    "X_test = test.drop( columns = ['values'] )"
   ]
  },
  {
   "cell_type": "code",
   "execution_count": 35,
   "metadata": {},
   "outputs": [],
   "source": [
    "# creating Linear Regression model\n",
    "reg = LinearRegression().fit(X_train, y_train)"
   ]
  },
  {
   "cell_type": "code",
   "execution_count": 36,
   "metadata": {},
   "outputs": [
    {
     "data": {
      "text/plain": [
       "1.0"
      ]
     },
     "execution_count": 36,
     "metadata": {},
     "output_type": "execute_result"
    }
   ],
   "source": [
    "reg.score(X_test, y_test)"
   ]
  },
  {
   "cell_type": "code",
   "execution_count": 37,
   "metadata": {},
   "outputs": [
    {
     "data": {
      "text/plain": [
       "array([ 1.00540860e-11, -3.15664161e-12,  1.90720159e+04,  1.00000000e+00,\n",
       "       -8.80581719e-12,  1.40304435e-13, -2.28145280e-12, -6.73072709e-14])"
      ]
     },
     "execution_count": 37,
     "metadata": {},
     "output_type": "execute_result"
    }
   ],
   "source": [
    "reg.coef_"
   ]
  },
  {
   "cell_type": "code",
   "execution_count": 38,
   "metadata": {},
   "outputs": [
    {
     "data": {
      "text/plain": [
       "933079.9612865911"
      ]
     },
     "execution_count": 38,
     "metadata": {},
     "output_type": "execute_result"
    }
   ],
   "source": [
    "reg.intercept_"
   ]
  },
  {
   "cell_type": "raw",
   "metadata": {},
   "source": [
    "# Making regression using all columns(not treating as time series)"
   ]
  },
  {
   "cell_type": "code",
   "execution_count": 39,
   "metadata": {},
   "outputs": [],
   "source": [
    "# deleting duplicates\n",
    "df = df.drop_duplicates()"
   ]
  },
  {
   "cell_type": "code",
   "execution_count": 40,
   "metadata": {},
   "outputs": [
    {
     "name": "stderr",
     "output_type": "stream",
     "text": [
      "C:\\Users\\user\\anaconda3\\lib\\site-packages\\pandas\\core\\frame.py:5039: SettingWithCopyWarning: \n",
      "A value is trying to be set on a copy of a slice from a DataFrame\n",
      "\n",
      "See the caveats in the documentation: https://pandas.pydata.org/pandas-docs/stable/user_guide/indexing.html#returning-a-view-versus-a-copy\n",
      "  return super().rename(\n"
     ]
    }
   ],
   "source": [
    "# our target column is petrol,let's rename it\n",
    "df.rename(columns = {'petrol (bbl/day)' : 'target'},inplace = True)"
   ]
  },
  {
   "cell_type": "code",
   "execution_count": 41,
   "metadata": {},
   "outputs": [
    {
     "data": {
      "text/plain": [
       "state                               object\n",
       "bowl                                object\n",
       "np_anp                              object\n",
       "np_operator                         object\n",
       "field                               object\n",
       "operator                            object\n",
       "contact number                      object\n",
       "period                              object\n",
       "oil (bbl/day)                      float64\n",
       "condensate (bbl/day)               float64\n",
       "target                             float64\n",
       "ng_associate                       float64\n",
       "gn_not associated                  float64\n",
       "ng_total gas                       float64\n",
       "gas volume                         float64\n",
       "water (bbl/day)                    float64\n",
       "production time (hrs per month)    float64\n",
       "dtype: object"
      ]
     },
     "execution_count": 41,
     "metadata": {},
     "output_type": "execute_result"
    }
   ],
   "source": [
    "df.dtypes"
   ]
  },
  {
   "cell_type": "code",
   "execution_count": 42,
   "metadata": {},
   "outputs": [
    {
     "data": {
      "text/plain": [
       "['oil (bbl/day)',\n",
       " 'condensate (bbl/day)',\n",
       " 'target',\n",
       " 'ng_associate',\n",
       " 'gn_not associated',\n",
       " 'ng_total gas',\n",
       " 'gas volume',\n",
       " 'water (bbl/day)',\n",
       " 'production time (hrs per month)']"
      ]
     },
     "execution_count": 42,
     "metadata": {},
     "output_type": "execute_result"
    }
   ],
   "source": [
    "# getting numeric columns\n",
    "numerics = []\n",
    "for i in df.columns:\n",
    "    if df[i].dtype == 'float64':\n",
    "        numerics.append(i)\n",
    "numerics        "
   ]
  },
  {
   "cell_type": "code",
   "execution_count": 43,
   "metadata": {},
   "outputs": [
    {
     "name": "stdout",
     "output_type": "stream",
     "text": [
      "oil (bbl/day) 0.9998448727401478\n",
      "condensate (bbl/day) 0.012615555282149804\n",
      "target 1.0\n",
      "ng_associate 0.8193069050965208\n",
      "gn_not associated 0.004437500157468834\n",
      "ng_total gas 0.7044750205437226\n",
      "gas volume 0.5573056524232849\n",
      "water (bbl/day) 0.27116475947186996\n",
      "production time (hrs per month) 0.053369157094019605\n"
     ]
    }
   ],
   "source": [
    "# our target column is petrol,looking its correlation with others\n",
    "for i in numerics:\n",
    "    print(i,df[i].corr(df['target']))"
   ]
  },
  {
   "cell_type": "code",
   "execution_count": 44,
   "metadata": {},
   "outputs": [],
   "source": [
    "# we can delete gn_not associated column,because it has very low correlation\n",
    "del df['gn_not associated']"
   ]
  },
  {
   "cell_type": "code",
   "execution_count": 45,
   "metadata": {},
   "outputs": [
    {
     "data": {
      "text/plain": [
       "['state',\n",
       " 'bowl',\n",
       " 'np_anp',\n",
       " 'np_operator',\n",
       " 'field',\n",
       " 'operator',\n",
       " 'contact number',\n",
       " 'period']"
      ]
     },
     "execution_count": 45,
     "metadata": {},
     "output_type": "execute_result"
    }
   ],
   "source": [
    "# getting categoric columns\n",
    "categorics = []\n",
    "for i in df.columns:\n",
    "    if df[i].dtype == 'object':\n",
    "        categorics.append(i)\n",
    "categorics        "
   ]
  },
  {
   "cell_type": "code",
   "execution_count": 46,
   "metadata": {},
   "outputs": [
    {
     "name": "stdout",
     "output_type": "stream",
     "text": [
      "state 11\n",
      "bowl 14\n",
      "np_anp 43828\n",
      "np_operator 30947\n",
      "field 495\n",
      "operator 83\n",
      "contact number 513\n",
      "period 207\n"
     ]
    }
   ],
   "source": [
    "for i in categorics:\n",
    "    print(i , len(df[i].value_counts()))"
   ]
  },
  {
   "cell_type": "raw",
   "metadata": {},
   "source": [
    "# Converting some categoric columns with the help of One Hot Encoder,but not all of them, because it will create lots of columns and slow down our model"
   ]
  },
  {
   "cell_type": "code",
   "execution_count": 47,
   "metadata": {},
   "outputs": [],
   "source": [
    "# one hot encode state column\n",
    "enc = OneHotEncoder(handle_unknown='ignore')\n",
    "\n",
    "enc_df = pd.DataFrame(enc.fit_transform(df[['state']]).toarray())\n",
    "\n",
    "enc_df.columns = enc.get_feature_names_out()\n",
    "\n",
    "df = df.join(enc_df)\n",
    "df.drop('state',axis=1,inplace=True)"
   ]
  },
  {
   "cell_type": "code",
   "execution_count": 48,
   "metadata": {},
   "outputs": [],
   "source": [
    "# one hot encode bowl column\n",
    "enc = OneHotEncoder(handle_unknown='ignore')\n",
    "\n",
    "enc_df = pd.DataFrame(enc.fit_transform(df[['bowl']]).toarray())\n",
    "\n",
    "enc_df.columns = enc.get_feature_names_out()\n",
    "\n",
    "df = df.join(enc_df)\n",
    "df.drop('bowl',axis=1,inplace=True)"
   ]
  },
  {
   "cell_type": "code",
   "execution_count": 49,
   "metadata": {},
   "outputs": [],
   "source": [
    "# splitting period into year and month\n",
    "df[['year', 'month']] = df['period'].str.split('/', expand=True)\n",
    "\n",
    "# convert the data type of the new columns to integer\n",
    "df['year'] = df['year'].astype(int)\n",
    "df['month'] = df['month'].astype(int)\n"
   ]
  },
  {
   "cell_type": "code",
   "execution_count": 50,
   "metadata": {},
   "outputs": [],
   "source": [
    "del df['period']"
   ]
  },
  {
   "cell_type": "code",
   "execution_count": 51,
   "metadata": {},
   "outputs": [
    {
     "data": {
      "text/plain": [
       "np_anp                                 0\n",
       "np_operator                            0\n",
       "field                                  0\n",
       "operator                               0\n",
       "contact number                         0\n",
       "oil (bbl/day)                          0\n",
       "condensate (bbl/day)                   0\n",
       "target                                 0\n",
       "ng_associate                           0\n",
       "ng_total gas                           0\n",
       "gas volume                             0\n",
       "water (bbl/day)                        0\n",
       "production time (hrs per month)        0\n",
       "state_Alagoas                      14514\n",
       "state_Amazonas                     14514\n",
       "state_Bahia                        14514\n",
       "state_Ceará                        14514\n",
       "state_Espírito Santo               14514\n",
       "state_Maranhão                     14514\n",
       "state_Paraná                       14514\n",
       "state_Rio Grande do Norte          14514\n",
       "state_Rio de Janeiro               14514\n",
       "state_Sergipe                      14514\n",
       "state_São Paulo                    14514\n",
       "bowl_Alagoas                       14514\n",
       "bowl_Amazonas                      14514\n",
       "bowl_Barreirinhas                  14514\n",
       "bowl_Camamu                        14514\n",
       "bowl_Campos                        14514\n",
       "bowl_Ceará                         14514\n",
       "bowl_Espírito Santo                14514\n",
       "bowl_Parnaíba                      14514\n",
       "bowl_Potiguar                      14514\n",
       "bowl_Recôncavo                     14514\n",
       "bowl_Santos                        14514\n",
       "bowl_Sergipe                       14514\n",
       "bowl_Solimões                      14514\n",
       "bowl_Tucano Sul                    14514\n",
       "year                                   0\n",
       "month                                  0\n",
       "dtype: int64"
      ]
     },
     "execution_count": 51,
     "metadata": {},
     "output_type": "execute_result"
    }
   ],
   "source": [
    "df.isnull().sum()"
   ]
  },
  {
   "cell_type": "code",
   "execution_count": 52,
   "metadata": {},
   "outputs": [],
   "source": [
    "df.dropna(inplace = True)"
   ]
  },
  {
   "cell_type": "code",
   "execution_count": 53,
   "metadata": {},
   "outputs": [
    {
     "data": {
      "text/html": [
       "<div>\n",
       "<style scoped>\n",
       "    .dataframe tbody tr th:only-of-type {\n",
       "        vertical-align: middle;\n",
       "    }\n",
       "\n",
       "    .dataframe tbody tr th {\n",
       "        vertical-align: top;\n",
       "    }\n",
       "\n",
       "    .dataframe thead th {\n",
       "        text-align: right;\n",
       "    }\n",
       "</style>\n",
       "<table border=\"1\" class=\"dataframe\">\n",
       "  <thead>\n",
       "    <tr style=\"text-align: right;\">\n",
       "      <th></th>\n",
       "      <th>field</th>\n",
       "      <th>std</th>\n",
       "    </tr>\n",
       "  </thead>\n",
       "  <tbody>\n",
       "    <tr>\n",
       "      <th>0</th>\n",
       "      <td>ABALONE</td>\n",
       "      <td>429.962608</td>\n",
       "    </tr>\n",
       "    <tr>\n",
       "      <th>1</th>\n",
       "      <td>ACAJÁ-BURIZINHO</td>\n",
       "      <td>2.879224</td>\n",
       "    </tr>\n",
       "    <tr>\n",
       "      <th>2</th>\n",
       "      <td>ACAUÃ</td>\n",
       "      <td>3.796956</td>\n",
       "    </tr>\n",
       "    <tr>\n",
       "      <th>3</th>\n",
       "      <td>AGUILHADA</td>\n",
       "      <td>62.056847</td>\n",
       "    </tr>\n",
       "    <tr>\n",
       "      <th>4</th>\n",
       "      <td>AGULHA</td>\n",
       "      <td>72.649874</td>\n",
       "    </tr>\n",
       "    <tr>\n",
       "      <th>...</th>\n",
       "      <td>...</td>\n",
       "      <td>...</td>\n",
       "    </tr>\n",
       "    <tr>\n",
       "      <th>489</th>\n",
       "      <td>VIOLA</td>\n",
       "      <td>437.266050</td>\n",
       "    </tr>\n",
       "    <tr>\n",
       "      <th>490</th>\n",
       "      <td>VOADOR</td>\n",
       "      <td>1464.539385</td>\n",
       "    </tr>\n",
       "    <tr>\n",
       "      <th>491</th>\n",
       "      <td>VÁRZEA REDONDA</td>\n",
       "      <td>14.370918</td>\n",
       "    </tr>\n",
       "    <tr>\n",
       "      <th>492</th>\n",
       "      <td>XARÉU</td>\n",
       "      <td>75.776546</td>\n",
       "    </tr>\n",
       "    <tr>\n",
       "      <th>493</th>\n",
       "      <td>ÁGUA GRANDE</td>\n",
       "      <td>28.911671</td>\n",
       "    </tr>\n",
       "  </tbody>\n",
       "</table>\n",
       "<p>494 rows × 2 columns</p>\n",
       "</div>"
      ],
      "text/plain": [
       "               field          std\n",
       "0            ABALONE   429.962608\n",
       "1    ACAJÁ-BURIZINHO     2.879224\n",
       "2              ACAUÃ     3.796956\n",
       "3          AGUILHADA    62.056847\n",
       "4             AGULHA    72.649874\n",
       "..               ...          ...\n",
       "489            VIOLA   437.266050\n",
       "490           VOADOR  1464.539385\n",
       "491   VÁRZEA REDONDA    14.370918\n",
       "492            XARÉU    75.776546\n",
       "493      ÁGUA GRANDE    28.911671\n",
       "\n",
       "[494 rows x 2 columns]"
      ]
     },
     "execution_count": 53,
     "metadata": {},
     "output_type": "execute_result"
    }
   ],
   "source": [
    "# for converting other categoric columns into numerics\n",
    "# splitting field column into two with using its values standard deviation according to target column\n",
    "stds = pd.DataFrame(df.groupby(by='field').agg({'target':['std']}))\n",
    "stds.columns = ['std_' + '_'.join(col).strip() for col in stds.columns.values]\n",
    "stds = stds.reset_index().rename(columns={'field': 'field', 'std_target_std': 'std'})\n",
    "stds"
   ]
  },
  {
   "cell_type": "code",
   "execution_count": 54,
   "metadata": {},
   "outputs": [
    {
     "data": {
      "text/html": [
       "<div>\n",
       "<style scoped>\n",
       "    .dataframe tbody tr th:only-of-type {\n",
       "        vertical-align: middle;\n",
       "    }\n",
       "\n",
       "    .dataframe tbody tr th {\n",
       "        vertical-align: top;\n",
       "    }\n",
       "\n",
       "    .dataframe thead th {\n",
       "        text-align: right;\n",
       "    }\n",
       "</style>\n",
       "<table border=\"1\" class=\"dataframe\">\n",
       "  <thead>\n",
       "    <tr style=\"text-align: right;\">\n",
       "      <th></th>\n",
       "      <th>std</th>\n",
       "    </tr>\n",
       "  </thead>\n",
       "  <tbody>\n",
       "    <tr>\n",
       "      <th>count</th>\n",
       "      <td>486.000000</td>\n",
       "    </tr>\n",
       "    <tr>\n",
       "      <th>mean</th>\n",
       "      <td>612.691944</td>\n",
       "    </tr>\n",
       "    <tr>\n",
       "      <th>std</th>\n",
       "      <td>2001.758058</td>\n",
       "    </tr>\n",
       "    <tr>\n",
       "      <th>min</th>\n",
       "      <td>0.000000</td>\n",
       "    </tr>\n",
       "    <tr>\n",
       "      <th>25%</th>\n",
       "      <td>6.788423</td>\n",
       "    </tr>\n",
       "    <tr>\n",
       "      <th>50%</th>\n",
       "      <td>19.147297</td>\n",
       "    </tr>\n",
       "    <tr>\n",
       "      <th>75%</th>\n",
       "      <td>83.987849</td>\n",
       "    </tr>\n",
       "    <tr>\n",
       "      <th>max</th>\n",
       "      <td>17192.098900</td>\n",
       "    </tr>\n",
       "  </tbody>\n",
       "</table>\n",
       "</div>"
      ],
      "text/plain": [
       "                std\n",
       "count    486.000000\n",
       "mean     612.691944\n",
       "std     2001.758058\n",
       "min        0.000000\n",
       "25%        6.788423\n",
       "50%       19.147297\n",
       "75%       83.987849\n",
       "max    17192.098900"
      ]
     },
     "execution_count": 54,
     "metadata": {},
     "output_type": "execute_result"
    }
   ],
   "source": [
    "stds.describe()"
   ]
  },
  {
   "cell_type": "code",
   "execution_count": 55,
   "metadata": {},
   "outputs": [],
   "source": [
    "fieldlowstd = []\n",
    "fieldhighstd = []\n",
    "for index, row in stds.iterrows():\n",
    "    if row['std'] < 20:\n",
    "        fieldlowstd.append(row['field'])\n",
    "    else:\n",
    "        fieldhighstd.append(row['field'])"
   ]
  },
  {
   "cell_type": "code",
   "execution_count": 56,
   "metadata": {},
   "outputs": [],
   "source": [
    "df['fieldlowstd'] = df['field'].isin(fieldlowstd)\n",
    "df['fieldhighstd'] = df['field'].isin(fieldhighstd)"
   ]
  },
  {
   "cell_type": "code",
   "execution_count": 57,
   "metadata": {},
   "outputs": [
    {
     "data": {
      "text/html": [
       "<div>\n",
       "<style scoped>\n",
       "    .dataframe tbody tr th:only-of-type {\n",
       "        vertical-align: middle;\n",
       "    }\n",
       "\n",
       "    .dataframe tbody tr th {\n",
       "        vertical-align: top;\n",
       "    }\n",
       "\n",
       "    .dataframe thead th {\n",
       "        text-align: right;\n",
       "    }\n",
       "</style>\n",
       "<table border=\"1\" class=\"dataframe\">\n",
       "  <thead>\n",
       "    <tr style=\"text-align: right;\">\n",
       "      <th></th>\n",
       "      <th>operator</th>\n",
       "      <th>mean</th>\n",
       "    </tr>\n",
       "  </thead>\n",
       "  <tbody>\n",
       "    <tr>\n",
       "      <th>0</th>\n",
       "      <td>-</td>\n",
       "      <td>4.856364</td>\n",
       "    </tr>\n",
       "    <tr>\n",
       "      <th>1</th>\n",
       "      <td>3R Areia</td>\n",
       "      <td>9.568962</td>\n",
       "    </tr>\n",
       "    <tr>\n",
       "      <th>2</th>\n",
       "      <td>3R MACAU S.A.</td>\n",
       "      <td>25.016538</td>\n",
       "    </tr>\n",
       "    <tr>\n",
       "      <th>3</th>\n",
       "      <td>3R Macau</td>\n",
       "      <td>31.130466</td>\n",
       "    </tr>\n",
       "    <tr>\n",
       "      <th>4</th>\n",
       "      <td>3R PETROLEUM</td>\n",
       "      <td>12.673800</td>\n",
       "    </tr>\n",
       "    <tr>\n",
       "      <th>...</th>\n",
       "      <td>...</td>\n",
       "      <td>...</td>\n",
       "    </tr>\n",
       "    <tr>\n",
       "      <th>76</th>\n",
       "      <td>Trident Energy</td>\n",
       "      <td>200.415947</td>\n",
       "    </tr>\n",
       "    <tr>\n",
       "      <th>77</th>\n",
       "      <td>UP Petróleo</td>\n",
       "      <td>70.366791</td>\n",
       "    </tr>\n",
       "    <tr>\n",
       "      <th>78</th>\n",
       "      <td>UTC Engenharia</td>\n",
       "      <td>0.035178</td>\n",
       "    </tr>\n",
       "    <tr>\n",
       "      <th>79</th>\n",
       "      <td>Ubuntu Engenharia</td>\n",
       "      <td>2.470660</td>\n",
       "    </tr>\n",
       "    <tr>\n",
       "      <th>80</th>\n",
       "      <td>Vipetro</td>\n",
       "      <td>2.814235</td>\n",
       "    </tr>\n",
       "  </tbody>\n",
       "</table>\n",
       "<p>81 rows × 2 columns</p>\n",
       "</div>"
      ],
      "text/plain": [
       "             operator        mean\n",
       "0                   -    4.856364\n",
       "1            3R Areia    9.568962\n",
       "2       3R MACAU S.A.   25.016538\n",
       "3            3R Macau   31.130466\n",
       "4        3R PETROLEUM   12.673800\n",
       "..                ...         ...\n",
       "76     Trident Energy  200.415947\n",
       "77        UP Petróleo   70.366791\n",
       "78     UTC Engenharia    0.035178\n",
       "79  Ubuntu Engenharia    2.470660\n",
       "80            Vipetro    2.814235\n",
       "\n",
       "[81 rows x 2 columns]"
      ]
     },
     "execution_count": 57,
     "metadata": {},
     "output_type": "execute_result"
    }
   ],
   "source": [
    "# doing same for operator column with mean\n",
    "means = pd.DataFrame(df.groupby(by='operator').agg({'target':['mean']}))\n",
    "means.columns = ['mean_' + '_'.join(col).strip() for col in means.columns.values]\n",
    "means = means.reset_index().rename(columns={'operator': 'operator', 'mean_target_mean': 'mean'})\n",
    "means"
   ]
  },
  {
   "cell_type": "code",
   "execution_count": 58,
   "metadata": {},
   "outputs": [
    {
     "data": {
      "text/html": [
       "<div>\n",
       "<style scoped>\n",
       "    .dataframe tbody tr th:only-of-type {\n",
       "        vertical-align: middle;\n",
       "    }\n",
       "\n",
       "    .dataframe tbody tr th {\n",
       "        vertical-align: top;\n",
       "    }\n",
       "\n",
       "    .dataframe thead th {\n",
       "        text-align: right;\n",
       "    }\n",
       "</style>\n",
       "<table border=\"1\" class=\"dataframe\">\n",
       "  <thead>\n",
       "    <tr style=\"text-align: right;\">\n",
       "      <th></th>\n",
       "      <th>mean</th>\n",
       "    </tr>\n",
       "  </thead>\n",
       "  <tbody>\n",
       "    <tr>\n",
       "      <th>count</th>\n",
       "      <td>81.000000</td>\n",
       "    </tr>\n",
       "    <tr>\n",
       "      <th>mean</th>\n",
       "      <td>628.731039</td>\n",
       "    </tr>\n",
       "    <tr>\n",
       "      <th>std</th>\n",
       "      <td>1699.336505</td>\n",
       "    </tr>\n",
       "    <tr>\n",
       "      <th>min</th>\n",
       "      <td>0.000000</td>\n",
       "    </tr>\n",
       "    <tr>\n",
       "      <th>25%</th>\n",
       "      <td>3.446546</td>\n",
       "    </tr>\n",
       "    <tr>\n",
       "      <th>50%</th>\n",
       "      <td>12.149298</td>\n",
       "    </tr>\n",
       "    <tr>\n",
       "      <th>75%</th>\n",
       "      <td>70.366791</td>\n",
       "    </tr>\n",
       "    <tr>\n",
       "      <th>max</th>\n",
       "      <td>9078.933800</td>\n",
       "    </tr>\n",
       "  </tbody>\n",
       "</table>\n",
       "</div>"
      ],
      "text/plain": [
       "              mean\n",
       "count    81.000000\n",
       "mean    628.731039\n",
       "std    1699.336505\n",
       "min       0.000000\n",
       "25%       3.446546\n",
       "50%      12.149298\n",
       "75%      70.366791\n",
       "max    9078.933800"
      ]
     },
     "execution_count": 58,
     "metadata": {},
     "output_type": "execute_result"
    }
   ],
   "source": [
    "means.describe()"
   ]
  },
  {
   "cell_type": "code",
   "execution_count": 59,
   "metadata": {},
   "outputs": [],
   "source": [
    "operatorlowmean = []\n",
    "operatorhighmean = []\n",
    "for index, row in means.iterrows():\n",
    "    if row['mean'] < 20:\n",
    "        operatorlowmean.append(row['operator'])\n",
    "    else:\n",
    "        operatorhighmean.append(row['operator'])"
   ]
  },
  {
   "cell_type": "code",
   "execution_count": 60,
   "metadata": {},
   "outputs": [],
   "source": [
    "df['operatorlowmean'] = df['operator'].isin(operatorlowmean)\n",
    "df['operatorhighmean'] = df['operator'].isin(operatorhighmean)"
   ]
  },
  {
   "cell_type": "code",
   "execution_count": 61,
   "metadata": {},
   "outputs": [],
   "source": [
    "del df['field']\n",
    "del df['operator']"
   ]
  },
  {
   "cell_type": "code",
   "execution_count": 62,
   "metadata": {},
   "outputs": [],
   "source": [
    "# deleting np_anp and np_operator, due to containing redundant information and having very high cardinality \n",
    "del df['np_anp']\n",
    "del df['np_operator']"
   ]
  },
  {
   "cell_type": "code",
   "execution_count": 63,
   "metadata": {},
   "outputs": [
    {
     "data": {
      "text/html": [
       "<div>\n",
       "<style scoped>\n",
       "    .dataframe tbody tr th:only-of-type {\n",
       "        vertical-align: middle;\n",
       "    }\n",
       "\n",
       "    .dataframe tbody tr th {\n",
       "        vertical-align: top;\n",
       "    }\n",
       "\n",
       "    .dataframe thead th {\n",
       "        text-align: right;\n",
       "    }\n",
       "</style>\n",
       "<table border=\"1\" class=\"dataframe\">\n",
       "  <thead>\n",
       "    <tr style=\"text-align: right;\">\n",
       "      <th></th>\n",
       "      <th>sum</th>\n",
       "    </tr>\n",
       "  </thead>\n",
       "  <tbody>\n",
       "    <tr>\n",
       "      <th>count</th>\n",
       "      <td>5.120000e+02</td>\n",
       "    </tr>\n",
       "    <tr>\n",
       "      <th>mean</th>\n",
       "      <td>9.057493e+05</td>\n",
       "    </tr>\n",
       "    <tr>\n",
       "      <th>std</th>\n",
       "      <td>5.115566e+06</td>\n",
       "    </tr>\n",
       "    <tr>\n",
       "      <th>min</th>\n",
       "      <td>0.000000e+00</td>\n",
       "    </tr>\n",
       "    <tr>\n",
       "      <th>25%</th>\n",
       "      <td>1.378319e+02</td>\n",
       "    </tr>\n",
       "    <tr>\n",
       "      <th>50%</th>\n",
       "      <td>4.193442e+03</td>\n",
       "    </tr>\n",
       "    <tr>\n",
       "      <th>75%</th>\n",
       "      <td>9.161763e+04</td>\n",
       "    </tr>\n",
       "    <tr>\n",
       "      <th>max</th>\n",
       "      <td>7.063753e+07</td>\n",
       "    </tr>\n",
       "  </tbody>\n",
       "</table>\n",
       "</div>"
      ],
      "text/plain": [
       "                sum\n",
       "count  5.120000e+02\n",
       "mean   9.057493e+05\n",
       "std    5.115566e+06\n",
       "min    0.000000e+00\n",
       "25%    1.378319e+02\n",
       "50%    4.193442e+03\n",
       "75%    9.161763e+04\n",
       "max    7.063753e+07"
      ]
     },
     "execution_count": 63,
     "metadata": {},
     "output_type": "execute_result"
    }
   ],
   "source": [
    "# looking sums of target based on contact number\n",
    "sums = pd.DataFrame(df.groupby(by='contact number').agg({'target':['sum']}))\n",
    "sums.columns = ['sum_' + '_'.join(col).strip() for col in sums.columns.values]\n",
    "sums = sums.reset_index().rename(columns={'contact number': 'contact number', 'sum_target_sum': 'sum'})\n",
    "sums.describe()"
   ]
  },
  {
   "cell_type": "code",
   "execution_count": 64,
   "metadata": {},
   "outputs": [],
   "source": [
    "numberlowsum = []\n",
    "numberhighsum = []\n",
    "for index, row in sums.iterrows():\n",
    "    if row['sum'] < 4000:\n",
    "        numberlowsum.append(row['contact number'])\n",
    "    else:\n",
    "        numberhighsum.append(row['contact number'])"
   ]
  },
  {
   "cell_type": "code",
   "execution_count": 65,
   "metadata": {},
   "outputs": [],
   "source": [
    "df['numberlowsum'] = df['contact number'].isin(numberlowsum)\n",
    "df['numberhighsum'] = df['contact number'].isin(numberhighsum)"
   ]
  },
  {
   "cell_type": "code",
   "execution_count": 66,
   "metadata": {},
   "outputs": [],
   "source": [
    "df.replace({False:0, True:1}, inplace=True)"
   ]
  },
  {
   "cell_type": "code",
   "execution_count": 67,
   "metadata": {},
   "outputs": [],
   "source": [
    "# just look at sum of target , and decide importance of numbers(customers) \n",
    "del df['contact number']"
   ]
  },
  {
   "cell_type": "code",
   "execution_count": 68,
   "metadata": {},
   "outputs": [
    {
     "data": {
      "text/html": [
       "<div>\n",
       "<style scoped>\n",
       "    .dataframe tbody tr th:only-of-type {\n",
       "        vertical-align: middle;\n",
       "    }\n",
       "\n",
       "    .dataframe tbody tr th {\n",
       "        vertical-align: top;\n",
       "    }\n",
       "\n",
       "    .dataframe thead th {\n",
       "        text-align: right;\n",
       "    }\n",
       "</style>\n",
       "<table border=\"1\" class=\"dataframe\">\n",
       "  <thead>\n",
       "    <tr style=\"text-align: right;\">\n",
       "      <th></th>\n",
       "      <th>oil (bbl/day)</th>\n",
       "      <th>condensate (bbl/day)</th>\n",
       "      <th>target</th>\n",
       "      <th>ng_associate</th>\n",
       "      <th>ng_total gas</th>\n",
       "      <th>gas volume</th>\n",
       "      <th>water (bbl/day)</th>\n",
       "      <th>production time (hrs per month)</th>\n",
       "      <th>state_Alagoas</th>\n",
       "      <th>state_Amazonas</th>\n",
       "      <th>...</th>\n",
       "      <th>bowl_Solimões</th>\n",
       "      <th>bowl_Tucano Sul</th>\n",
       "      <th>year</th>\n",
       "      <th>month</th>\n",
       "      <th>fieldlowstd</th>\n",
       "      <th>fieldhighstd</th>\n",
       "      <th>operatorlowmean</th>\n",
       "      <th>operatorhighmean</th>\n",
       "      <th>numberlowsum</th>\n",
       "      <th>numberhighsum</th>\n",
       "    </tr>\n",
       "  </thead>\n",
       "  <tbody>\n",
       "    <tr>\n",
       "      <th>0</th>\n",
       "      <td>76.5937</td>\n",
       "      <td>0.0</td>\n",
       "      <td>76.5937</td>\n",
       "      <td>0.0000</td>\n",
       "      <td>0.0000</td>\n",
       "      <td>0.00000</td>\n",
       "      <td>7.0405</td>\n",
       "      <td>31.0</td>\n",
       "      <td>0.0</td>\n",
       "      <td>0.0</td>\n",
       "      <td>...</td>\n",
       "      <td>0.0</td>\n",
       "      <td>0.0</td>\n",
       "      <td>2005</td>\n",
       "      <td>1</td>\n",
       "      <td>0</td>\n",
       "      <td>1</td>\n",
       "      <td>0</td>\n",
       "      <td>1</td>\n",
       "      <td>0</td>\n",
       "      <td>1</td>\n",
       "    </tr>\n",
       "    <tr>\n",
       "      <th>1</th>\n",
       "      <td>71.3589</td>\n",
       "      <td>0.0</td>\n",
       "      <td>71.3589</td>\n",
       "      <td>0.0000</td>\n",
       "      <td>0.0000</td>\n",
       "      <td>0.00000</td>\n",
       "      <td>143.9758</td>\n",
       "      <td>31.0</td>\n",
       "      <td>0.0</td>\n",
       "      <td>0.0</td>\n",
       "      <td>...</td>\n",
       "      <td>0.0</td>\n",
       "      <td>0.0</td>\n",
       "      <td>2005</td>\n",
       "      <td>1</td>\n",
       "      <td>0</td>\n",
       "      <td>1</td>\n",
       "      <td>0</td>\n",
       "      <td>1</td>\n",
       "      <td>0</td>\n",
       "      <td>1</td>\n",
       "    </tr>\n",
       "    <tr>\n",
       "      <th>2</th>\n",
       "      <td>0.0000</td>\n",
       "      <td>0.0</td>\n",
       "      <td>0.0000</td>\n",
       "      <td>0.0000</td>\n",
       "      <td>0.0000</td>\n",
       "      <td>0.00000</td>\n",
       "      <td>0.0000</td>\n",
       "      <td>31.0</td>\n",
       "      <td>0.0</td>\n",
       "      <td>0.0</td>\n",
       "      <td>...</td>\n",
       "      <td>0.0</td>\n",
       "      <td>0.0</td>\n",
       "      <td>2005</td>\n",
       "      <td>1</td>\n",
       "      <td>0</td>\n",
       "      <td>1</td>\n",
       "      <td>0</td>\n",
       "      <td>1</td>\n",
       "      <td>0</td>\n",
       "      <td>1</td>\n",
       "    </tr>\n",
       "    <tr>\n",
       "      <th>3</th>\n",
       "      <td>0.0000</td>\n",
       "      <td>0.0</td>\n",
       "      <td>0.0000</td>\n",
       "      <td>0.0000</td>\n",
       "      <td>0.0000</td>\n",
       "      <td>0.00000</td>\n",
       "      <td>0.0000</td>\n",
       "      <td>31.0</td>\n",
       "      <td>0.0</td>\n",
       "      <td>0.0</td>\n",
       "      <td>...</td>\n",
       "      <td>0.0</td>\n",
       "      <td>0.0</td>\n",
       "      <td>2005</td>\n",
       "      <td>1</td>\n",
       "      <td>0</td>\n",
       "      <td>1</td>\n",
       "      <td>0</td>\n",
       "      <td>1</td>\n",
       "      <td>0</td>\n",
       "      <td>1</td>\n",
       "    </tr>\n",
       "    <tr>\n",
       "      <th>4</th>\n",
       "      <td>423.0607</td>\n",
       "      <td>0.0</td>\n",
       "      <td>423.0607</td>\n",
       "      <td>0.0000</td>\n",
       "      <td>0.0000</td>\n",
       "      <td>0.00000</td>\n",
       "      <td>1.8667</td>\n",
       "      <td>31.0</td>\n",
       "      <td>0.0</td>\n",
       "      <td>0.0</td>\n",
       "      <td>...</td>\n",
       "      <td>0.0</td>\n",
       "      <td>0.0</td>\n",
       "      <td>2005</td>\n",
       "      <td>1</td>\n",
       "      <td>0</td>\n",
       "      <td>1</td>\n",
       "      <td>0</td>\n",
       "      <td>1</td>\n",
       "      <td>0</td>\n",
       "      <td>1</td>\n",
       "    </tr>\n",
       "    <tr>\n",
       "      <th>...</th>\n",
       "      <td>...</td>\n",
       "      <td>...</td>\n",
       "      <td>...</td>\n",
       "      <td>...</td>\n",
       "      <td>...</td>\n",
       "      <td>...</td>\n",
       "      <td>...</td>\n",
       "      <td>...</td>\n",
       "      <td>...</td>\n",
       "      <td>...</td>\n",
       "      <td>...</td>\n",
       "      <td>...</td>\n",
       "      <td>...</td>\n",
       "      <td>...</td>\n",
       "      <td>...</td>\n",
       "      <td>...</td>\n",
       "      <td>...</td>\n",
       "      <td>...</td>\n",
       "      <td>...</td>\n",
       "      <td>...</td>\n",
       "      <td>...</td>\n",
       "    </tr>\n",
       "    <tr>\n",
       "      <th>2094524</th>\n",
       "      <td>4.6659</td>\n",
       "      <td>0.0</td>\n",
       "      <td>4.6659</td>\n",
       "      <td>0.0059</td>\n",
       "      <td>0.0059</td>\n",
       "      <td>0.16607</td>\n",
       "      <td>60.8896</td>\n",
       "      <td>667.0</td>\n",
       "      <td>0.0</td>\n",
       "      <td>0.0</td>\n",
       "      <td>...</td>\n",
       "      <td>0.0</td>\n",
       "      <td>0.0</td>\n",
       "      <td>2022</td>\n",
       "      <td>2</td>\n",
       "      <td>1</td>\n",
       "      <td>0</td>\n",
       "      <td>0</td>\n",
       "      <td>1</td>\n",
       "      <td>0</td>\n",
       "      <td>1</td>\n",
       "    </tr>\n",
       "    <tr>\n",
       "      <th>2094525</th>\n",
       "      <td>5.7208</td>\n",
       "      <td>0.0</td>\n",
       "      <td>5.7208</td>\n",
       "      <td>0.0073</td>\n",
       "      <td>0.0073</td>\n",
       "      <td>0.20364</td>\n",
       "      <td>20.4531</td>\n",
       "      <td>667.0</td>\n",
       "      <td>0.0</td>\n",
       "      <td>0.0</td>\n",
       "      <td>...</td>\n",
       "      <td>0.0</td>\n",
       "      <td>0.0</td>\n",
       "      <td>2022</td>\n",
       "      <td>2</td>\n",
       "      <td>1</td>\n",
       "      <td>0</td>\n",
       "      <td>0</td>\n",
       "      <td>1</td>\n",
       "      <td>0</td>\n",
       "      <td>1</td>\n",
       "    </tr>\n",
       "    <tr>\n",
       "      <th>2094526</th>\n",
       "      <td>2.7668</td>\n",
       "      <td>0.0</td>\n",
       "      <td>2.7668</td>\n",
       "      <td>0.0035</td>\n",
       "      <td>0.0035</td>\n",
       "      <td>0.09846</td>\n",
       "      <td>23.8121</td>\n",
       "      <td>665.0</td>\n",
       "      <td>0.0</td>\n",
       "      <td>0.0</td>\n",
       "      <td>...</td>\n",
       "      <td>0.0</td>\n",
       "      <td>0.0</td>\n",
       "      <td>2022</td>\n",
       "      <td>2</td>\n",
       "      <td>1</td>\n",
       "      <td>0</td>\n",
       "      <td>0</td>\n",
       "      <td>1</td>\n",
       "      <td>0</td>\n",
       "      <td>1</td>\n",
       "    </tr>\n",
       "    <tr>\n",
       "      <th>2094527</th>\n",
       "      <td>2.5582</td>\n",
       "      <td>0.0</td>\n",
       "      <td>2.5582</td>\n",
       "      <td>0.0033</td>\n",
       "      <td>0.0033</td>\n",
       "      <td>0.09104</td>\n",
       "      <td>32.0039</td>\n",
       "      <td>671.0</td>\n",
       "      <td>0.0</td>\n",
       "      <td>0.0</td>\n",
       "      <td>...</td>\n",
       "      <td>0.0</td>\n",
       "      <td>0.0</td>\n",
       "      <td>2022</td>\n",
       "      <td>2</td>\n",
       "      <td>1</td>\n",
       "      <td>0</td>\n",
       "      <td>0</td>\n",
       "      <td>1</td>\n",
       "      <td>0</td>\n",
       "      <td>1</td>\n",
       "    </tr>\n",
       "    <tr>\n",
       "      <th>2094528</th>\n",
       "      <td>2.5582</td>\n",
       "      <td>0.0</td>\n",
       "      <td>2.5582</td>\n",
       "      <td>0.0033</td>\n",
       "      <td>0.0033</td>\n",
       "      <td>0.09104</td>\n",
       "      <td>40.4716</td>\n",
       "      <td>671.0</td>\n",
       "      <td>0.0</td>\n",
       "      <td>0.0</td>\n",
       "      <td>...</td>\n",
       "      <td>0.0</td>\n",
       "      <td>0.0</td>\n",
       "      <td>2022</td>\n",
       "      <td>2</td>\n",
       "      <td>1</td>\n",
       "      <td>0</td>\n",
       "      <td>0</td>\n",
       "      <td>1</td>\n",
       "      <td>0</td>\n",
       "      <td>1</td>\n",
       "    </tr>\n",
       "  </tbody>\n",
       "</table>\n",
       "<p>2080015 rows × 41 columns</p>\n",
       "</div>"
      ],
      "text/plain": [
       "         oil (bbl/day)  condensate (bbl/day)    target  ng_associate  \\\n",
       "0              76.5937                   0.0   76.5937        0.0000   \n",
       "1              71.3589                   0.0   71.3589        0.0000   \n",
       "2               0.0000                   0.0    0.0000        0.0000   \n",
       "3               0.0000                   0.0    0.0000        0.0000   \n",
       "4             423.0607                   0.0  423.0607        0.0000   \n",
       "...                ...                   ...       ...           ...   \n",
       "2094524         4.6659                   0.0    4.6659        0.0059   \n",
       "2094525         5.7208                   0.0    5.7208        0.0073   \n",
       "2094526         2.7668                   0.0    2.7668        0.0035   \n",
       "2094527         2.5582                   0.0    2.5582        0.0033   \n",
       "2094528         2.5582                   0.0    2.5582        0.0033   \n",
       "\n",
       "         ng_total gas  gas volume  water (bbl/day)  \\\n",
       "0              0.0000     0.00000           7.0405   \n",
       "1              0.0000     0.00000         143.9758   \n",
       "2              0.0000     0.00000           0.0000   \n",
       "3              0.0000     0.00000           0.0000   \n",
       "4              0.0000     0.00000           1.8667   \n",
       "...               ...         ...              ...   \n",
       "2094524        0.0059     0.16607          60.8896   \n",
       "2094525        0.0073     0.20364          20.4531   \n",
       "2094526        0.0035     0.09846          23.8121   \n",
       "2094527        0.0033     0.09104          32.0039   \n",
       "2094528        0.0033     0.09104          40.4716   \n",
       "\n",
       "         production time (hrs per month)  state_Alagoas  state_Amazonas  ...  \\\n",
       "0                                   31.0            0.0             0.0  ...   \n",
       "1                                   31.0            0.0             0.0  ...   \n",
       "2                                   31.0            0.0             0.0  ...   \n",
       "3                                   31.0            0.0             0.0  ...   \n",
       "4                                   31.0            0.0             0.0  ...   \n",
       "...                                  ...            ...             ...  ...   \n",
       "2094524                            667.0            0.0             0.0  ...   \n",
       "2094525                            667.0            0.0             0.0  ...   \n",
       "2094526                            665.0            0.0             0.0  ...   \n",
       "2094527                            671.0            0.0             0.0  ...   \n",
       "2094528                            671.0            0.0             0.0  ...   \n",
       "\n",
       "         bowl_Solimões  bowl_Tucano Sul  year  month  fieldlowstd  \\\n",
       "0                  0.0              0.0  2005      1            0   \n",
       "1                  0.0              0.0  2005      1            0   \n",
       "2                  0.0              0.0  2005      1            0   \n",
       "3                  0.0              0.0  2005      1            0   \n",
       "4                  0.0              0.0  2005      1            0   \n",
       "...                ...              ...   ...    ...          ...   \n",
       "2094524            0.0              0.0  2022      2            1   \n",
       "2094525            0.0              0.0  2022      2            1   \n",
       "2094526            0.0              0.0  2022      2            1   \n",
       "2094527            0.0              0.0  2022      2            1   \n",
       "2094528            0.0              0.0  2022      2            1   \n",
       "\n",
       "         fieldhighstd  operatorlowmean  operatorhighmean  numberlowsum  \\\n",
       "0                   1                0                 1             0   \n",
       "1                   1                0                 1             0   \n",
       "2                   1                0                 1             0   \n",
       "3                   1                0                 1             0   \n",
       "4                   1                0                 1             0   \n",
       "...               ...              ...               ...           ...   \n",
       "2094524             0                0                 1             0   \n",
       "2094525             0                0                 1             0   \n",
       "2094526             0                0                 1             0   \n",
       "2094527             0                0                 1             0   \n",
       "2094528             0                0                 1             0   \n",
       "\n",
       "         numberhighsum  \n",
       "0                    1  \n",
       "1                    1  \n",
       "2                    1  \n",
       "3                    1  \n",
       "4                    1  \n",
       "...                ...  \n",
       "2094524              1  \n",
       "2094525              1  \n",
       "2094526              1  \n",
       "2094527              1  \n",
       "2094528              1  \n",
       "\n",
       "[2080015 rows x 41 columns]"
      ]
     },
     "execution_count": 68,
     "metadata": {},
     "output_type": "execute_result"
    }
   ],
   "source": [
    "df"
   ]
  },
  {
   "cell_type": "code",
   "execution_count": 69,
   "metadata": {},
   "outputs": [
    {
     "data": {
      "text/plain": [
       "oil (bbl/day)                      float64\n",
       "condensate (bbl/day)               float64\n",
       "target                             float64\n",
       "ng_associate                       float64\n",
       "ng_total gas                       float64\n",
       "gas volume                         float64\n",
       "water (bbl/day)                    float64\n",
       "production time (hrs per month)    float64\n",
       "state_Alagoas                      float64\n",
       "state_Amazonas                     float64\n",
       "state_Bahia                        float64\n",
       "state_Ceará                        float64\n",
       "state_Espírito Santo               float64\n",
       "state_Maranhão                     float64\n",
       "state_Paraná                       float64\n",
       "state_Rio Grande do Norte          float64\n",
       "state_Rio de Janeiro               float64\n",
       "state_Sergipe                      float64\n",
       "state_São Paulo                    float64\n",
       "bowl_Alagoas                       float64\n",
       "bowl_Amazonas                      float64\n",
       "bowl_Barreirinhas                  float64\n",
       "bowl_Camamu                        float64\n",
       "bowl_Campos                        float64\n",
       "bowl_Ceará                         float64\n",
       "bowl_Espírito Santo                float64\n",
       "bowl_Parnaíba                      float64\n",
       "bowl_Potiguar                      float64\n",
       "bowl_Recôncavo                     float64\n",
       "bowl_Santos                        float64\n",
       "bowl_Sergipe                       float64\n",
       "bowl_Solimões                      float64\n",
       "bowl_Tucano Sul                    float64\n",
       "year                                 int32\n",
       "month                                int32\n",
       "fieldlowstd                          int64\n",
       "fieldhighstd                         int64\n",
       "operatorlowmean                      int64\n",
       "operatorhighmean                     int64\n",
       "numberlowsum                         int64\n",
       "numberhighsum                        int64\n",
       "dtype: object"
      ]
     },
     "execution_count": 69,
     "metadata": {},
     "output_type": "execute_result"
    }
   ],
   "source": [
    "df.dtypes"
   ]
  },
  {
   "cell_type": "code",
   "execution_count": null,
   "metadata": {},
   "outputs": [],
   "source": [
    "# optional normalization, we can also do that for better modelling\n",
    "df = (df - df.mean()) / df.std()\n",
    "# this makes z-score normalization and controls mean and deviation of data"
   ]
  },
  {
   "cell_type": "code",
   "execution_count": 45,
   "metadata": {},
   "outputs": [],
   "source": [
    "# this is implemented for Random forest model,because otherwise it makes overffiting over oil column\n",
    "X = df.drop(columns = {'target','oil (bbl/day)'})\n",
    "y = df['target']\n",
    "X_train, X_test, y_train, y_test = train_test_split(X, y,random_state=1)"
   ]
  },
  {
   "cell_type": "code",
   "execution_count": 46,
   "metadata": {},
   "outputs": [],
   "source": [
    "# building Random forest model\n",
    "random_forest_model = RandomForestRegressor(max_depth = 5, min_samples_split = 10).fit(X_train,y_train)"
   ]
  },
  {
   "cell_type": "code",
   "execution_count": 47,
   "metadata": {},
   "outputs": [
    {
     "data": {
      "text/plain": [
       "0.8480563701762049"
      ]
     },
     "execution_count": 47,
     "metadata": {},
     "output_type": "execute_result"
    }
   ],
   "source": [
    "# getting score.it is pretty good\n",
    "random_forest_model.score(X_test,y_test)"
   ]
  },
  {
   "cell_type": "code",
   "execution_count": null,
   "metadata": {},
   "outputs": [],
   "source": [
    "# this is applied for Neural netwrok ,because we will add regularization to it\n",
    "X = df.drop(columns = {'target'})\n",
    "y = df['target']\n",
    "X_train, X_test, y_train, y_test = train_test_split(X, y,random_state=1)"
   ]
  },
  {
   "cell_type": "code",
   "execution_count": 113,
   "metadata": {},
   "outputs": [],
   "source": [
    "# using tensorflow library,creating Neural network with 2 hidden layers having 25 and 15 units respectively,and with kernel regularizers\n",
    "import tensorflow as tf\n",
    "from tensorflow import keras\n",
    "from tensorflow.keras import layers\n",
    "from tensorflow.keras import regularizers\n",
    "\n",
    "model = keras.Sequential([\n",
    "    layers.Dense(25, activation='relu', input_shape=[X_train.shape[1]],\n",
    "                 kernel_regularizer=regularizers.l2(0.01)),\n",
    "    layers.Dense(15, activation='relu', kernel_regularizer=regularizers.l2(0.01)),\n",
    "    layers.Dense(1)\n",
    "])"
   ]
  },
  {
   "cell_type": "code",
   "execution_count": 115,
   "metadata": {},
   "outputs": [
    {
     "name": "stdout",
     "output_type": "stream",
     "text": [
      "Epoch 1/10\n",
      "48751/48751 [==============================] - 108s 2ms/step - loss: 366.4801\n",
      "Epoch 2/10\n",
      "48751/48751 [==============================] - 104s 2ms/step - loss: 297.6612\n",
      "Epoch 3/10\n",
      "48751/48751 [==============================] - 136s 3ms/step - loss: 226.5736\n",
      "Epoch 4/10\n",
      "48751/48751 [==============================] - 159s 3ms/step - loss: 225.3783\n",
      "Epoch 5/10\n",
      "48751/48751 [==============================] - 156s 3ms/step - loss: 237.7254\n",
      "Epoch 6/10\n",
      "48751/48751 [==============================] - 128s 3ms/step - loss: 189.3698\n",
      "Epoch 7/10\n",
      "48751/48751 [==============================] - 109s 2ms/step - loss: 167.8598\n",
      "Epoch 8/10\n",
      "48751/48751 [==============================] - 105s 2ms/step - loss: 177.5710\n",
      "Epoch 9/10\n",
      "48751/48751 [==============================] - 95s 2ms/step - loss: 139.9903\n",
      "Epoch 10/10\n",
      "48751/48751 [==============================] - 95s 2ms/step - loss: 131.0393\n"
     ]
    },
    {
     "data": {
      "text/plain": [
       "<keras.callbacks.History at 0x28c19c01820>"
      ]
     },
     "execution_count": 115,
     "metadata": {},
     "output_type": "execute_result"
    }
   ],
   "source": [
    "# compile the model\n",
    "model.compile(optimizer='adam', loss='mean_squared_error')\n",
    "\n",
    "# train the model\n",
    "model.fit(X_train, y_train, epochs=10, batch_size=32)"
   ]
  },
  {
   "cell_type": "code",
   "execution_count": 118,
   "metadata": {},
   "outputs": [
    {
     "name": "stdout",
     "output_type": "stream",
     "text": [
      "16251/16251 [==============================] - 23s 1ms/step\n"
     ]
    }
   ],
   "source": [
    "# evaluate the model on test data\n",
    "from sklearn.metrics import mean_squared_error\n",
    "y_pred = model.predict(X_test)\n",
    "mse = mean_squared_error(y_test, y_pred)"
   ]
  },
  {
   "cell_type": "code",
   "execution_count": 119,
   "metadata": {},
   "outputs": [
    {
     "data": {
      "text/plain": [
       "1.0335055118163707"
      ]
     },
     "execution_count": 119,
     "metadata": {},
     "output_type": "execute_result"
    }
   ],
   "source": [
    "# becuase we built complex model(and have a lot of features), we get very low mean squared error\n",
    "mse"
   ]
  }
 ],
 "metadata": {
  "kernelspec": {
   "display_name": "Python 3 (ipykernel)",
   "language": "python",
   "name": "python3"
  },
  "language_info": {
   "codemirror_mode": {
    "name": "ipython",
    "version": 3
   },
   "file_extension": ".py",
   "mimetype": "text/x-python",
   "name": "python",
   "nbconvert_exporter": "python",
   "pygments_lexer": "ipython3",
   "version": "3.9.7"
  },
  "vscode": {
   "interpreter": {
    "hash": "a077222d77dfe082b8f1dd562ad70e458ac2ab76993a0b248ab0476e32e9e8dd"
   }
  }
 },
 "nbformat": 4,
 "nbformat_minor": 2
}
